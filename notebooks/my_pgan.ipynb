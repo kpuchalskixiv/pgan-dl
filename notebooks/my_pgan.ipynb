{
 "cells": [
  {
   "cell_type": "code",
   "execution_count": 1,
   "id": "cac2f20f",
   "metadata": {},
   "outputs": [],
   "source": [
    "import torch\n",
    "from torch import nn\n",
    "from pytorch_lightning import LightningModule\n",
    "import torchvision as tv\n",
    "from torchvision import transforms\n",
    "import torch.nn.functional as F\n",
    "import torch.utils.data as data_utils\n",
    "\n",
    "import pytorch_lightning as pl\n",
    "from pytorch_lightning import Trainer\n",
    "from torch.utils.data import DataLoader\n",
    "\n",
    "from collections import OrderedDict\n",
    "from pytorch_lightning.loggers import WandbLogger\n",
    "import wandb\n",
    "import random\n",
    "\n",
    "import warnings"
   ]
  },
  {
   "cell_type": "code",
   "execution_count": 2,
   "id": "c2114644",
   "metadata": {},
   "outputs": [],
   "source": [
    "from my_pgan import *"
   ]
  },
  {
   "cell_type": "code",
   "execution_count": 33,
   "id": "c112a3ab",
   "metadata": {},
   "outputs": [],
   "source": [
    "class PGAN(pl.LightningModule):\n",
    "    def __init__(self, lr=0.1, latent_size=512, final_res=32, curr_res=4, k=1,\n",
    "                 alpha=0.0, alpha_step=0.1, loss_f=WGANGP_loss,\n",
    "                 normalize=True, activation_f=nn.LeakyReLU(negative_slope=0.2)):\n",
    "\n",
    "        super().__init__()\n",
    "        self.save_hyperparameters(ignore=['activation_f', 'loss_f'])\n",
    "\n",
    "        self.id=f\"{random.random():.3f}\"[2:]\n",
    "        self.loss_f=loss_f\n",
    "        self.generator=Generator(latent_size=latent_size, final_res=final_res, normalize=normalize, activation_f=activation_f)\n",
    "        self.discriminator=Discriminator(latent_size=latent_size, final_res=final_res, normalize=normalize, activation_f=activation_f)\n",
    "\n",
    "    def forward(self, z):\n",
    "        return self.generator(z)\n",
    "\n",
    "    def training_step(self, batch,  batch_idx, optimizer_idx):\n",
    "      #  print(self.optimizers())\n",
    "\n",
    "        xi, _=batch\n",
    "        zi = torch.randn(xi.shape[0], self.hparams.latent_size) #TODO update zi sampling\n",
    "        if self.hparams.normalize:\n",
    "            zi=F.normalize(zi, dim=1, p=2)\n",
    "\n",
    "        if optimizer_idx == 0: # train Generator\n",
    "            g_loss=self.loss_f(self, zi=zi, net='generator')\n",
    "\n",
    "            self.log(\"generator_loss\", g_loss)\n",
    "            self.log(\"curr_res\", float(self.hparams.curr_res))\n",
    "            self.log(\"alpha\", float(self.hparams.alpha))\n",
    "            return g_loss\n",
    "\n",
    "        if optimizer_idx>0: # train discriminator\n",
    "            d_loss=self.loss_f(self, zi=zi, xi=xi, net='discriminator')\n",
    "            self.log(\"discriminator_loss\", d_loss)\n",
    "            self.log(\"alpha\", float(self.hparams.alpha))\n",
    "            self.log(\"curr_res\", float(self.hparams.curr_res))\n",
    "            return d_loss\n",
    "\n",
    "    def configure_optimizers(self):\n",
    "        decay=0\n",
    "        if self.loss_f!=WGANGP_loss:\n",
    "            decay=1e-4\n",
    "        g_opt = torch.optim.Adam(self.generator.layers.parameters(), lr=self.hparams.lr, betas=(0,0.99), eps=1e-8, weight_decay=decay)\n",
    "        d_opt = torch.optim.Adam(self.discriminator.layers.parameters(), lr=self.hparams.lr, betas=(0,0.99), eps=1e-8, weight_decay=decay)\n",
    "        d_opt.add_param_group({'params': self.discriminator.decision_layer.parameters()})\n",
    "        # should bne enough to load\n",
    "        if self.generator.residual:\n",
    "            g_opt.add_param_group({'params': self.generator.residual.model.parameters()})\n",
    "            g_opt.add_param_group({'params': self.generator.residual.introduce.parameters()})\n",
    "        if self.discriminator.residual:\n",
    "            d_opt.add_param_group({'params': self.discriminator.residual.model.parameters()})\n",
    "            d_opt.add_param_group({'params': self.discriminator.residual.introduce.parameters()})\n",
    "        \n",
    "        return [g_opt, d_opt]\n",
    "\n",
    "    def optimizer_step(\n",
    "            self,\n",
    "            epoch,\n",
    "            batch_idx,\n",
    "            optimizer,\n",
    "            optimizer_idx,\n",
    "            optimizer_closure,\n",
    "            on_tpu=False,\n",
    "            using_native_amp=False,\n",
    "            using_lbfgs=False,\n",
    "        ):\n",
    "        # update discrminator every step\n",
    "        if optimizer_idx == 1:\n",
    "            optimizer.step(closure=optimizer_closure)\n",
    "\n",
    "        # update generator every k steps\n",
    "        if optimizer_idx == 0:\n",
    "            if (batch_idx + 1) % self.hparams.k == 0:\n",
    "                # the closure (which includes the `training_step`) will be executed by `optimizer.step`\n",
    "                optimizer.step(closure=optimizer_closure)\n",
    "            else:\n",
    "                # call the closure by itself to run `training_step` + `backward` without an optimizer step\n",
    "                optimizer_closure()\n",
    "\n",
    "    def save_generated_images(self, n=10, save_dir='./images/'):\n",
    "        t=transforms.Compose([ transforms.Normalize((0.5, 0.5, 0.5), (0.5, 0.5, 0.5)), transforms.ToPILImage()])#, transforms.Resize(size=(256,256))])\n",
    "        zi = torch.randn(n, self.hparams.latent_size)\n",
    "        gen_imgs=self.generator(zi)\n",
    "        i=0\n",
    "        for img in gen_imgs: \n",
    "            t(img).save(save_dir+self.id+'_res_'+str(self.hparams.curr_res)+'_img_'+str(i)+'.png')\n",
    "            i+=1\n",
    "            \n",
    "    def on_train_epoch_end(self):\n",
    "        if self.current_epoch>int(0.5/self.hparams.alpha_step): # first run X epochs on 4x4\n",
    "            if self.hparams.alpha==0 and self.hparams.curr_res<self.hparams.final_res:\n",
    "                \n",
    "                self.save_generated_images()\n",
    "                \n",
    "                self.hparams.curr_res*=2\n",
    "              #  if self.hparams.curr_res==32:\n",
    "                self.hparams.alpha_step*=0.75\n",
    "                \n",
    "                self.generator.add_scale(start_alpha=self.hparams.alpha_step)\n",
    "                self.discriminator.add_scale(start_alpha=self.hparams.alpha_step)\n",
    "                self.hparams.alpha+=self.hparams.alpha_step\n",
    "                \n",
    "                # update optimizers, 0-generator\n",
    "                opts=self.optimizers()\n",
    "                opts[0].add_param_group({'params': self.generator.residual.model.parameters()})\n",
    "                opts[0].add_param_group({'params': self.generator.residual.introduce.parameters()})\n",
    "                opts[1].add_param_group({'params': self.discriminator.residual.model.parameters()})\n",
    "                opts[1].add_param_group({'params': self.discriminator.residual.introduce.parameters()})\n",
    "\n",
    "               # print(model.generator.residual.model[1].module.weight.data[0,0])\n",
    "\n",
    "            elif self.hparams.alpha>=1:\n",
    "                self.generator.finish_adding_scale()\n",
    "                self.discriminator.finish_adding_scale()\n",
    "                self.hparams.alpha=0\n",
    "\n",
    "                print(\"Done with: \", self.hparams.curr_res)\n",
    "            elif self.hparams.alpha!=0:\n",
    "                by=self.hparams.alpha_step\n",
    "                self.generator.increase_alpha(by=by)\n",
    "                self.discriminator.increase_alpha(by=by)\n",
    "                self.hparams.alpha=min(self.hparams.alpha+by, 1.0)\n"
   ]
  },
  {
   "cell_type": "code",
   "execution_count": 34,
   "id": "0780b518",
   "metadata": {},
   "outputs": [],
   "source": [
    "class PGAN_loaded(PGAN):\n",
    "    def __init__(self, lr=0.1, latent_size=512, final_res=32, curr_res=4, k=1,\n",
    "                 alpha=0.0, alpha_step=0.1, loss_f=WGANGP_loss,\n",
    "                 normalize=True, activation_f=nn.LeakyReLU(negative_slope=0.2)):\n",
    "\n",
    "        super().__init__()\n",
    "        self.save_hyperparameters(ignore=['activation_f', 'loss_f'])\n",
    "\n",
    "        self.id=f\"{random.random():.3f}\"[2:]\n",
    "        self.loss_f=loss_f\n",
    "        self.generator=Generator(latent_size=latent_size, final_res=final_res, normalize=normalize, activation_f=activation_f)\n",
    "        self.discriminator=Discriminator(latent_size=latent_size, final_res=final_res, normalize=normalize, activation_f=activation_f)\n",
    "        \n",
    "        warnings.warn(\"ONLY FOR LOADING 8X8 MODEL WITH ALPHA!=1\")\n",
    "        self.generator.add_scale(start_alpha=self.hparams.alpha)\n",
    "        self.discriminator.add_scale(start_alpha=self.hparams.alpha)"
   ]
  },
  {
   "cell_type": "code",
   "execution_count": 5,
   "id": "38440166",
   "metadata": {},
   "outputs": [],
   "source": [
    "workers=8\n",
    "batch_size=16"
   ]
  },
  {
   "cell_type": "code",
   "execution_count": 6,
   "id": "c019c34a",
   "metadata": {},
   "outputs": [],
   "source": [
    "data_train=DataLoader(tv.datasets.CIFAR10(\"../data/01_raw\",transform=transforms.ToTensor()), batch_size=batch_size, num_workers=workers)\n",
    "#data_val=DataLoader(tv.datasets.CIFAR10(\"../data/01_raw\", transform=transforms.ToTensor() , train=False ), batch_size=batch_size, num_workers=workers)"
   ]
  },
  {
   "cell_type": "code",
   "execution_count": 7,
   "id": "0bfe280f",
   "metadata": {},
   "outputs": [],
   "source": [
    "oneclass_data=[]\n",
    "for d in data_train:\n",
    "    data, labels=d\n",
    "  #  print(labels)\n",
    "    for l in range(len(labels)):\n",
    "        if labels[l]==0:\n",
    "            oneclass_data.append(data[l].view(1,3,32,32))"
   ]
  },
  {
   "cell_type": "code",
   "execution_count": 8,
   "id": "fe1b015c",
   "metadata": {},
   "outputs": [],
   "source": [
    "oneclass_dataloader=DataLoader(data_utils.TensorDataset(torch.cat(oneclass_data, dim=0), torch.zeros(len(oneclass_data))),  batch_size=batch_size, num_workers=workers)"
   ]
  },
  {
   "cell_type": "markdown",
   "id": "6ab2bdc8",
   "metadata": {},
   "source": [
    "Load or create new"
   ]
  },
  {
   "cell_type": "code",
   "execution_count": 9,
   "id": "addb8af1",
   "metadata": {},
   "outputs": [
    {
     "name": "stdout",
     "output_type": "stream",
     "text": [
      "{'lr': 0.0001, 'latent_size': 512, 'final_res': 32, 'curr_res': 8, 'k': 1, 'alpha': 0.015, 'alpha_step': 0.003, 'normalize': True}\n"
     ]
    }
   ],
   "source": [
    "checkpoint = torch.load('epoch=171-step=107672.ckpt')\n",
    "print(checkpoint[\"hyper_parameters\"])\n"
   ]
  },
  {
   "cell_type": "code",
   "execution_count": 31,
   "id": "e70e5c5e",
   "metadata": {},
   "outputs": [
    {
     "name": "stderr",
     "output_type": "stream",
     "text": [
      "C:\\Users\\kpuch\\AppData\\Local\\Temp/ipykernel_29704/3641227511.py:14: UserWarning: ONLY FOR LOADING 8X8 MODEL WITH ALPHA!=1\n",
      "  warnings.warn(\"ONLY FOR LOADING 8X8 MODEL WITH ALPHA!=1\")\n"
     ]
    }
   ],
   "source": [
    "model = PGAN_loaded.load_from_checkpoint(\n",
    "    checkpoint_path=\"epoch=171-step=107672.ckpt\")\n",
    "wandb.finish()\n",
    "wandb_logger=None"
   ]
  },
  {
   "cell_type": "code",
   "execution_count": 35,
   "id": "e849e86e",
   "metadata": {},
   "outputs": [],
   "source": [
    "model =  PGAN(lr=1e-4, latent_size=512, final_res=32, activation_f=nn.LeakyReLU(negative_slope=0.2), \n",
    "             alpha_step=4*1e-3, # 500 epochs on 4v4, 1k on both 8x8 and 16x16\n",
    "             loss_f=WGANGP_loss)\n",
    "wandb.finish()\n",
    "wandb_logger=None"
   ]
  },
  {
   "cell_type": "code",
   "execution_count": 36,
   "id": "f9ca2a91",
   "metadata": {},
   "outputs": [
    {
     "name": "stderr",
     "output_type": "stream",
     "text": [
      "\u001b[34m\u001b[1mwandb\u001b[0m: Currently logged in as: \u001b[33mkpuchalskixiv\u001b[0m (\u001b[33mdl_image_classification\u001b[0m). Use \u001b[1m`wandb login --relogin`\u001b[0m to force relogin\n"
     ]
    },
    {
     "data": {
      "text/html": [
       "Tracking run with wandb version 0.12.17"
      ],
      "text/plain": [
       "<IPython.core.display.HTML object>"
      ]
     },
     "metadata": {},
     "output_type": "display_data"
    },
    {
     "data": {
      "text/html": [
       "Run data is saved locally in <code>C:\\Users\\kpuch\\studia\\pgan-dl\\notebooks\\wandb\\run-20220609_173521-2c60b64n</code>"
      ],
      "text/plain": [
       "<IPython.core.display.HTML object>"
      ]
     },
     "metadata": {},
     "output_type": "display_data"
    },
    {
     "data": {
      "text/html": [
       "Syncing run <strong><a href=\"https://wandb.ai/dl_image_classification/PGAN/runs/2c60b64n\" target=\"_blank\">locally_WPGANPG_airplanes_3</a></strong> to <a href=\"https://wandb.ai/dl_image_classification/PGAN\" target=\"_blank\">Weights & Biases</a> (<a href=\"https://wandb.me/run\" target=\"_blank\">docs</a>)<br/>"
      ],
      "text/plain": [
       "<IPython.core.display.HTML object>"
      ]
     },
     "metadata": {},
     "output_type": "display_data"
    }
   ],
   "source": [
    "wandb_logger = WandbLogger(project=\"PGAN\",  name='locally_WPGANPG_airplanes_3' ,entity=\"dl_image_classification\")"
   ]
  },
  {
   "cell_type": "code",
   "execution_count": null,
   "id": "35075de6",
   "metadata": {
    "scrolled": true
   },
   "outputs": [
    {
     "name": "stderr",
     "output_type": "stream",
     "text": [
      "GPU available: True, used: True\n",
      "TPU available: False, using: 0 TPU cores\n",
      "IPU available: False, using: 0 IPUs\n",
      "HPU available: False, using: 0 HPUs\n",
      "LOCAL_RANK: 0 - CUDA_VISIBLE_DEVICES: [0]\n",
      "\n",
      "  | Name          | Type          | Params\n",
      "------------------------------------------------\n",
      "0 | generator     | Generator     | 6.6 M \n",
      "1 | discriminator | Discriminator | 6.6 M \n",
      "------------------------------------------------\n",
      "13.1 M    Trainable params\n",
      "0         Non-trainable params\n",
      "13.1 M    Total params\n",
      "52.472    Total estimated model params size (MB)\n"
     ]
    },
    {
     "data": {
      "application/vnd.jupyter.widget-view+json": {
       "model_id": "1cd75d263a8349bbb7515948cfbfe535",
       "version_major": 2,
       "version_minor": 0
      },
      "text/plain": [
       "Training: 0it [00:00, ?it/s]"
      ]
     },
     "metadata": {},
     "output_type": "display_data"
    },
    {
     "name": "stdout",
     "output_type": "stream",
     "text": [
      "Done with:  8\n",
      "Done with:  16\n"
     ]
    }
   ],
   "source": [
    "model.generator.device='cuda'\n",
    "trainer = Trainer(gpus=1, max_epochs=2250+200, log_every_n_steps=50, logger=wandb_logger)\n",
    "trainer.fit(model, oneclass_dataloader)#, ckpt_path=\"epoch=171-step=107672.ckpt\")"
   ]
  },
  {
   "cell_type": "code",
   "execution_count": 38,
   "id": "b85aa122",
   "metadata": {},
   "outputs": [
    {
     "data": {
      "text/plain": [
       "1171"
      ]
     },
     "execution_count": 38,
     "metadata": {},
     "output_type": "execute_result"
    }
   ],
   "source": [
    "model.current_epoch"
   ]
  },
  {
   "cell_type": "code",
   "execution_count": 39,
   "id": "80bdc4ae",
   "metadata": {},
   "outputs": [
    {
     "data": {
      "text/html": [
       "Waiting for W&B process to finish... <strong style=\"color:green\">(success).</strong>"
      ],
      "text/plain": [
       "<IPython.core.display.HTML object>"
      ]
     },
     "metadata": {},
     "output_type": "display_data"
    },
    {
     "data": {
      "application/vnd.jupyter.widget-view+json": {
       "model_id": "",
       "version_major": 2,
       "version_minor": 0
      },
      "text/plain": [
       "VBox(children=(Label(value='0.001 MB of 0.001 MB uploaded (0.000 MB deduped)\\r'), FloatProgress(value=1.0, max…"
      ]
     },
     "metadata": {},
     "output_type": "display_data"
    },
    {
     "data": {
      "text/html": [
       "<style>\n",
       "    table.wandb td:nth-child(1) { padding: 0 10px; text-align: left ; width: auto;} td:nth-child(2) {text-align: left ; width: 100%}\n",
       "    .wandb-row { display: flex; flex-direction: row; flex-wrap: wrap; justify-content: flex-start; width: 100% }\n",
       "    .wandb-col { display: flex; flex-direction: column; flex-basis: 100%; flex: 1; padding: 10px; }\n",
       "    </style>\n",
       "<div class=\"wandb-row\"><div class=\"wandb-col\"><h3>Run history:</h3><br/><table class=\"wandb\"><tr><td>alpha</td><td>▁▁▁▁▁▁▁▂▃▃▄▅▅▆▇▇█▁▂▂▃▃▄▄▅▅▆▆▇▇▇█▁▁▂▂▃▃▃▄</td></tr><tr><td>curr_res</td><td>▁▁▁▁▁▂▂▂▂▂▂▂▂▂▂▂▂▄▄▄▄▄▄▄▄▄▄▄▄▄▄▄████████</td></tr><tr><td>discriminator_loss</td><td>▃▇███▆▆▆▇▇▇▆▇▆▆▅▆▃▃▆▄▄▅▄▅▃▃▅▅▄▅▅▃▄▇▂▁▂▅▂</td></tr><tr><td>epoch</td><td>▁▁▁▁▂▂▂▂▂▃▃▃▃▃▃▄▄▄▄▄▅▅▅▅▅▅▆▆▆▆▆▇▇▇▇▇▇███</td></tr><tr><td>generator_loss</td><td>▂▂▂▂▂▁▃▃▃▃▃▂▂▂▂▂▂▁▃▂▂▃▄▃▃▃▂▃▂▂▃▃▄█▄▄▄▃▄▃</td></tr><tr><td>trainer/global_step</td><td>▁▁▁▁▂▂▂▂▂▃▃▃▃▃▃▄▄▄▄▄▅▅▅▅▅▅▆▆▆▆▆▇▇▇▇▇▇███</td></tr></table><br/></div><div class=\"wandb-col\"><h3>Run summary:</h3><br/><table class=\"wandb\"><tr><td>alpha</td><td>0.37631</td></tr><tr><td>curr_res</td><td>32.0</td></tr><tr><td>discriminator_loss</td><td>-1.52563</td></tr><tr><td>epoch</td><td>1170</td></tr><tr><td>generator_loss</td><td>0.54053</td></tr><tr><td>trainer/global_step</td><td>366499</td></tr></table><br/></div></div>"
      ],
      "text/plain": [
       "<IPython.core.display.HTML object>"
      ]
     },
     "metadata": {},
     "output_type": "display_data"
    },
    {
     "data": {
      "text/html": [
       "Synced <strong style=\"color:#cdcd00\">locally_WPGANPG_airplanes_3</strong>: <a href=\"https://wandb.ai/dl_image_classification/PGAN/runs/2c60b64n\" target=\"_blank\">https://wandb.ai/dl_image_classification/PGAN/runs/2c60b64n</a><br/>Synced 6 W&B file(s), 0 media file(s), 0 artifact file(s) and 0 other file(s)"
      ],
      "text/plain": [
       "<IPython.core.display.HTML object>"
      ]
     },
     "metadata": {},
     "output_type": "display_data"
    },
    {
     "data": {
      "text/html": [
       "Find logs at: <code>.\\wandb\\run-20220609_173521-2c60b64n\\logs</code>"
      ],
      "text/plain": [
       "<IPython.core.display.HTML object>"
      ]
     },
     "metadata": {},
     "output_type": "display_data"
    }
   ],
   "source": [
    "wandb.finish()"
   ]
  },
  {
   "cell_type": "code",
   "execution_count": 40,
   "id": "4ca28ebe",
   "metadata": {},
   "outputs": [],
   "source": [
    "torch.save(model, 'local_airplanes.model')"
   ]
  },
  {
   "cell_type": "code",
   "execution_count": null,
   "id": "15a2be18",
   "metadata": {},
   "outputs": [],
   "source": [
    "1e-3"
   ]
  },
  {
   "cell_type": "markdown",
   "id": "c9096024",
   "metadata": {},
   "source": [
    "# Load from checkpoint"
   ]
  },
  {
   "cell_type": "code",
   "execution_count": 12,
   "id": "63cdf1c5",
   "metadata": {},
   "outputs": [],
   "source": [
    "model = PGAN(lr=1e-4, latent_size=512, final_res=32, activation_f=nn.LeakyReLU(negative_slope=0.2), alpha_step=4e-3)"
   ]
  },
  {
   "cell_type": "code",
   "execution_count": 14,
   "id": "9b3cbe76",
   "metadata": {},
   "outputs": [
    {
     "data": {
      "text/plain": [
       "'\\nmodel.generator.add_scale()        \\nmodel.discriminator.add_scale()        \\nmodel.generator.finish_adding_scale()        \\nmodel.discriminator.finish_adding_scale() \\nmodel.hparams.curr_res*=2\\n\\nmodel.generator.add_scale(start_alpha=0.02)        \\nmodel.discriminator.add_scale(start_alpha=0.02)        \\nmodel.hparams.curr_res*=2\\n'"
      ]
     },
     "execution_count": 14,
     "metadata": {},
     "output_type": "execute_result"
    }
   ],
   "source": [
    "model.generator.add_scale()        \n",
    "model.discriminator.add_scale()        \n",
    "#model.generator.finish_adding_scale()        \n",
    "#model.discriminator.finish_adding_scale() \n",
    "model.hparams.curr_res*=2\n",
    "'''\n",
    "model.generator.add_scale()        \n",
    "model.discriminator.add_scale()        \n",
    "model.generator.finish_adding_scale()        \n",
    "model.discriminator.finish_adding_scale() \n",
    "model.hparams.curr_res*=2\n",
    "\n",
    "model.generator.add_scale(start_alpha=0.02)        \n",
    "model.discriminator.add_scale(start_alpha=0.02)        \n",
    "model.hparams.curr_res*=2\n",
    "'''"
   ]
  },
  {
   "cell_type": "code",
   "execution_count": 15,
   "id": "5e00468c",
   "metadata": {},
   "outputs": [
    {
     "data": {
      "text/plain": [
       "(0.0, 0.1, 0.1)"
      ]
     },
     "execution_count": 15,
     "metadata": {},
     "output_type": "execute_result"
    }
   ],
   "source": [
    "model.hparams.alpha, model.generator.alpha, model.discriminator.alpha"
   ]
  },
  {
   "cell_type": "code",
   "execution_count": 17,
   "id": "44485f6a",
   "metadata": {
    "scrolled": true
   },
   "outputs": [],
   "source": [
    "checkpoint = torch.load('epoch=171-step=107672.ckpt')\n"
   ]
  },
  {
   "cell_type": "code",
   "execution_count": 18,
   "id": "1eee022f",
   "metadata": {
    "scrolled": true
   },
   "outputs": [
    {
     "name": "stdout",
     "output_type": "stream",
     "text": [
      "['generator', 'layers', '0', 'module', 'weight']\n",
      "['generator', 'layers', '0', 'module', 'bias']\n",
      "['generator', 'layers', '3', 'module', 'weight']\n",
      "['generator', 'layers', '3', 'module', 'bias']\n",
      "['generator', 'layers', '6', 'module', 'weight']\n",
      "['generator', 'layers', '6', 'module', 'bias']\n",
      "['generator', 'residual', 'model', '1', 'module', 'weight']\n",
      "['generator', 'residual', 'model', '1', 'module', 'bias']\n",
      "['generator', 'residual', 'model', '4', 'module', 'weight']\n",
      "['generator', 'residual', 'model', '4', 'module', 'bias']\n",
      "['generator', 'residual', 'model', '7', 'module', 'weight']\n",
      "['generator', 'residual', 'model', '7', 'module', 'bias']\n",
      "['generator', 'residual', 'introduce', '1', 'module', 'weight']\n",
      "['generator', 'residual', 'introduce', '1', 'module', 'bias']\n",
      "['discriminator', 'layers', '0', 'module', 'weight']\n",
      "['discriminator', 'layers', '0', 'module', 'bias']\n",
      "['discriminator', 'layers', '3', 'module', 'weight']\n",
      "['discriminator', 'layers', '3', 'module', 'bias']\n",
      "['discriminator', 'layers', '5', 'module', 'weight']\n",
      "['discriminator', 'layers', '5', 'module', 'bias']\n",
      "['discriminator', 'decision_layer', '0', 'module', 'weight']\n",
      "['discriminator', 'decision_layer', '0', 'module', 'bias']\n",
      "['discriminator', 'residual', 'model', '0', 'module', 'weight']\n",
      "['discriminator', 'residual', 'model', '0', 'module', 'bias']\n",
      "['discriminator', 'residual', 'model', '2', 'module', 'weight']\n",
      "['discriminator', 'residual', 'model', '2', 'module', 'bias']\n",
      "['discriminator', 'residual', 'model', '4', 'module', 'weight']\n",
      "['discriminator', 'residual', 'model', '4', 'module', 'bias']\n",
      "['discriminator', 'residual', 'introduce', '1', 'module', 'weight']\n",
      "['discriminator', 'residual', 'introduce', '1', 'module', 'bias']\n"
     ]
    }
   ],
   "source": [
    "for k, v in (checkpoint['state_dict'].items()):\n",
    "    k=k.split(sep='.')\n",
    "    print(k)\n",
    "    if k[0]=='generator':\n",
    "        \n",
    "        if k[1]=='layers':\n",
    "            if k[-1]=='weight':\n",
    "                model.generator.layers[int(k[2])].module.weight.data=v\n",
    "            else:\n",
    "                model.generator.layers[int(k[2])].module.bias.data=v\n",
    "        else: # residual\n",
    "            \n",
    "            if k[2]=='model':\n",
    "                if k[-1]=='weight':\n",
    "                    model.generator.residual.model[int(k[3])].module.weight.data=v\n",
    "                else:\n",
    "                    model.generator.residual.model[int(k[3])].module.bias.data=v\n",
    "                    \n",
    "            else: # introduce\n",
    "                if k[-1]=='weight':\n",
    "                    model.generator.residual.introduce[int(k[3])].module.weight.data=v\n",
    "                else:\n",
    "                    model.generator.residual.introduce[int(k[3])].module.bias.data=v\n",
    "    else:\n",
    "        if k[1]=='layers':\n",
    "            if k[-1]=='weight':\n",
    "                model.discriminator.layers[int(k[2])].module.bias.data=v\n",
    "            else:\n",
    "                model.discriminator.layers[int(k[2])].module.bias.data=v\n",
    "                \n",
    "        elif k[1]=='residual':\n",
    "            \n",
    "            if k[2]=='model':\n",
    "                if k[-1]=='weight':\n",
    "                    model.discriminator.residual.model[int(k[3])].module.weight.data=v\n",
    "                else:\n",
    "                    model.discriminator.residual.model[int(k[3])].module.bias.data=v\n",
    "                    \n",
    "            else:\n",
    "                if k[-1]=='weight':\n",
    "                    model.discriminator.residual.introduce[int(k[3])].module.weight.data=v\n",
    "                else:\n",
    "                    model.discriminator.residual.introduce[int(k[3])].module.bias.data=v\n",
    "                    \n",
    "        else: # decision layer\n",
    "            if k[-1]=='weight':\n",
    "                model.discriminator.decision_layer[int(k[2])].module.weight.data=v\n",
    "            else:\n",
    "                model.discriminator.decision_layer[int(k[2])].module.bias.data=v"
   ]
  },
  {
   "cell_type": "code",
   "execution_count": 20,
   "id": "435107c5",
   "metadata": {
    "scrolled": true
   },
   "outputs": [
    {
     "name": "stderr",
     "output_type": "stream",
     "text": [
      "C:\\Users\\kpuch\\anaconda3\\lib\\site-packages\\pytorch_lightning\\loggers\\wandb.py:347: UserWarning: There is a wandb run already in progress and newly created instances of `WandbLogger` will reuse this run. If this is not desired, call `wandb.finish()` before instantiating `WandbLogger`.\n",
      "  rank_zero_warn(\n",
      "GPU available: True, used: True\n",
      "TPU available: False, using: 0 TPU cores\n",
      "IPU available: False, using: 0 IPUs\n",
      "HPU available: False, using: 0 HPUs\n",
      "Restoring states from the checkpoint path at epoch=171-step=107672.ckpt\n",
      "LOCAL_RANK: 0 - CUDA_VISIBLE_DEVICES: [0]\n",
      "\n",
      "  | Name          | Type          | Params\n",
      "------------------------------------------------\n",
      "0 | generator     | Generator     | 11.3 M\n",
      "1 | discriminator | Discriminator | 11.3 M\n",
      "------------------------------------------------\n",
      "22.6 M    Trainable params\n",
      "0         Non-trainable params\n",
      "22.6 M    Total params\n",
      "90.257    Total estimated model params size (MB)\n"
     ]
    },
    {
     "ename": "ValueError",
     "evalue": "loaded state dict has a different number of parameter groups",
     "output_type": "error",
     "traceback": [
      "\u001b[1;31m---------------------------------------------------------------------------\u001b[0m",
      "\u001b[1;31mValueError\u001b[0m                                Traceback (most recent call last)",
      "\u001b[1;32m~\\AppData\\Local\\Temp/ipykernel_43156/2015012508.py\u001b[0m in \u001b[0;36m<module>\u001b[1;34m\u001b[0m\n\u001b[0;32m      1\u001b[0m \u001b[0mwandb_logger\u001b[0m \u001b[1;33m=\u001b[0m \u001b[0mWandbLogger\u001b[0m\u001b[1;33m(\u001b[0m\u001b[0mproject\u001b[0m\u001b[1;33m=\u001b[0m\u001b[1;34m\"PGAN\"\u001b[0m\u001b[1;33m,\u001b[0m  \u001b[0mname\u001b[0m\u001b[1;33m=\u001b[0m\u001b[1;34m'locally_from_ckpt_airplanes'\u001b[0m \u001b[1;33m,\u001b[0m\u001b[0mentity\u001b[0m\u001b[1;33m=\u001b[0m\u001b[1;34m\"dl_image_classification\"\u001b[0m\u001b[1;33m)\u001b[0m\u001b[1;33m\u001b[0m\u001b[1;33m\u001b[0m\u001b[0m\n\u001b[0;32m      2\u001b[0m \u001b[0mtrainer\u001b[0m \u001b[1;33m=\u001b[0m \u001b[0mTrainer\u001b[0m\u001b[1;33m(\u001b[0m\u001b[0mgpus\u001b[0m\u001b[1;33m=\u001b[0m\u001b[1;36m1\u001b[0m\u001b[1;33m,\u001b[0m \u001b[0mmax_epochs\u001b[0m\u001b[1;33m=\u001b[0m\u001b[1;36m2250\u001b[0m\u001b[1;33m+\u001b[0m\u001b[1;36m200\u001b[0m\u001b[1;33m,\u001b[0m \u001b[0mlog_every_n_steps\u001b[0m\u001b[1;33m=\u001b[0m\u001b[1;36m50\u001b[0m\u001b[1;33m,\u001b[0m \u001b[0mlogger\u001b[0m\u001b[1;33m=\u001b[0m\u001b[0mwandb_logger\u001b[0m\u001b[1;33m)\u001b[0m\u001b[1;33m\u001b[0m\u001b[1;33m\u001b[0m\u001b[0m\n\u001b[1;32m----> 3\u001b[1;33m \u001b[0mtrainer\u001b[0m\u001b[1;33m.\u001b[0m\u001b[0mfit\u001b[0m\u001b[1;33m(\u001b[0m\u001b[0mmodel\u001b[0m\u001b[1;33m,\u001b[0m \u001b[0moneclass_dataloader\u001b[0m\u001b[1;33m,\u001b[0m \u001b[0mckpt_path\u001b[0m\u001b[1;33m=\u001b[0m\u001b[1;34m'epoch=171-step=107672.ckpt'\u001b[0m\u001b[1;33m)\u001b[0m\u001b[1;33m\u001b[0m\u001b[1;33m\u001b[0m\u001b[0m\n\u001b[0m",
      "\u001b[1;32m~\\anaconda3\\lib\\site-packages\\pytorch_lightning\\trainer\\trainer.py\u001b[0m in \u001b[0;36mfit\u001b[1;34m(self, model, train_dataloaders, val_dataloaders, datamodule, ckpt_path)\u001b[0m\n\u001b[0;32m    768\u001b[0m         \"\"\"\n\u001b[0;32m    769\u001b[0m         \u001b[0mself\u001b[0m\u001b[1;33m.\u001b[0m\u001b[0mstrategy\u001b[0m\u001b[1;33m.\u001b[0m\u001b[0mmodel\u001b[0m \u001b[1;33m=\u001b[0m \u001b[0mmodel\u001b[0m\u001b[1;33m\u001b[0m\u001b[1;33m\u001b[0m\u001b[0m\n\u001b[1;32m--> 770\u001b[1;33m         self._call_and_handle_interrupt(\n\u001b[0m\u001b[0;32m    771\u001b[0m             \u001b[0mself\u001b[0m\u001b[1;33m.\u001b[0m\u001b[0m_fit_impl\u001b[0m\u001b[1;33m,\u001b[0m \u001b[0mmodel\u001b[0m\u001b[1;33m,\u001b[0m \u001b[0mtrain_dataloaders\u001b[0m\u001b[1;33m,\u001b[0m \u001b[0mval_dataloaders\u001b[0m\u001b[1;33m,\u001b[0m \u001b[0mdatamodule\u001b[0m\u001b[1;33m,\u001b[0m \u001b[0mckpt_path\u001b[0m\u001b[1;33m\u001b[0m\u001b[1;33m\u001b[0m\u001b[0m\n\u001b[0;32m    772\u001b[0m         )\n",
      "\u001b[1;32m~\\anaconda3\\lib\\site-packages\\pytorch_lightning\\trainer\\trainer.py\u001b[0m in \u001b[0;36m_call_and_handle_interrupt\u001b[1;34m(self, trainer_fn, *args, **kwargs)\u001b[0m\n\u001b[0;32m    721\u001b[0m                 \u001b[1;32mreturn\u001b[0m \u001b[0mself\u001b[0m\u001b[1;33m.\u001b[0m\u001b[0mstrategy\u001b[0m\u001b[1;33m.\u001b[0m\u001b[0mlauncher\u001b[0m\u001b[1;33m.\u001b[0m\u001b[0mlaunch\u001b[0m\u001b[1;33m(\u001b[0m\u001b[0mtrainer_fn\u001b[0m\u001b[1;33m,\u001b[0m \u001b[1;33m*\u001b[0m\u001b[0margs\u001b[0m\u001b[1;33m,\u001b[0m \u001b[0mtrainer\u001b[0m\u001b[1;33m=\u001b[0m\u001b[0mself\u001b[0m\u001b[1;33m,\u001b[0m \u001b[1;33m**\u001b[0m\u001b[0mkwargs\u001b[0m\u001b[1;33m)\u001b[0m\u001b[1;33m\u001b[0m\u001b[1;33m\u001b[0m\u001b[0m\n\u001b[0;32m    722\u001b[0m             \u001b[1;32melse\u001b[0m\u001b[1;33m:\u001b[0m\u001b[1;33m\u001b[0m\u001b[1;33m\u001b[0m\u001b[0m\n\u001b[1;32m--> 723\u001b[1;33m                 \u001b[1;32mreturn\u001b[0m \u001b[0mtrainer_fn\u001b[0m\u001b[1;33m(\u001b[0m\u001b[1;33m*\u001b[0m\u001b[0margs\u001b[0m\u001b[1;33m,\u001b[0m \u001b[1;33m**\u001b[0m\u001b[0mkwargs\u001b[0m\u001b[1;33m)\u001b[0m\u001b[1;33m\u001b[0m\u001b[1;33m\u001b[0m\u001b[0m\n\u001b[0m\u001b[0;32m    724\u001b[0m         \u001b[1;31m# TODO: treat KeyboardInterrupt as BaseException (delete the code below) in v1.7\u001b[0m\u001b[1;33m\u001b[0m\u001b[1;33m\u001b[0m\u001b[0m\n\u001b[0;32m    725\u001b[0m         \u001b[1;32mexcept\u001b[0m \u001b[0mKeyboardInterrupt\u001b[0m \u001b[1;32mas\u001b[0m \u001b[0mexception\u001b[0m\u001b[1;33m:\u001b[0m\u001b[1;33m\u001b[0m\u001b[1;33m\u001b[0m\u001b[0m\n",
      "\u001b[1;32m~\\anaconda3\\lib\\site-packages\\pytorch_lightning\\trainer\\trainer.py\u001b[0m in \u001b[0;36m_fit_impl\u001b[1;34m(self, model, train_dataloaders, val_dataloaders, datamodule, ckpt_path)\u001b[0m\n\u001b[0;32m    809\u001b[0m             \u001b[0mckpt_path\u001b[0m\u001b[1;33m,\u001b[0m \u001b[0mmodel_provided\u001b[0m\u001b[1;33m=\u001b[0m\u001b[1;32mTrue\u001b[0m\u001b[1;33m,\u001b[0m \u001b[0mmodel_connected\u001b[0m\u001b[1;33m=\u001b[0m\u001b[0mself\u001b[0m\u001b[1;33m.\u001b[0m\u001b[0mlightning_module\u001b[0m \u001b[1;32mis\u001b[0m \u001b[1;32mnot\u001b[0m \u001b[1;32mNone\u001b[0m\u001b[1;33m\u001b[0m\u001b[1;33m\u001b[0m\u001b[0m\n\u001b[0;32m    810\u001b[0m         )\n\u001b[1;32m--> 811\u001b[1;33m         \u001b[0mresults\u001b[0m \u001b[1;33m=\u001b[0m \u001b[0mself\u001b[0m\u001b[1;33m.\u001b[0m\u001b[0m_run\u001b[0m\u001b[1;33m(\u001b[0m\u001b[0mmodel\u001b[0m\u001b[1;33m,\u001b[0m \u001b[0mckpt_path\u001b[0m\u001b[1;33m=\u001b[0m\u001b[0mself\u001b[0m\u001b[1;33m.\u001b[0m\u001b[0mckpt_path\u001b[0m\u001b[1;33m)\u001b[0m\u001b[1;33m\u001b[0m\u001b[1;33m\u001b[0m\u001b[0m\n\u001b[0m\u001b[0;32m    812\u001b[0m \u001b[1;33m\u001b[0m\u001b[0m\n\u001b[0;32m    813\u001b[0m         \u001b[1;32massert\u001b[0m \u001b[0mself\u001b[0m\u001b[1;33m.\u001b[0m\u001b[0mstate\u001b[0m\u001b[1;33m.\u001b[0m\u001b[0mstopped\u001b[0m\u001b[1;33m\u001b[0m\u001b[1;33m\u001b[0m\u001b[0m\n",
      "\u001b[1;32m~\\anaconda3\\lib\\site-packages\\pytorch_lightning\\trainer\\trainer.py\u001b[0m in \u001b[0;36m_run\u001b[1;34m(self, model, ckpt_path)\u001b[0m\n\u001b[0;32m   1230\u001b[0m         \u001b[1;31m# restore optimizers, etc.\u001b[0m\u001b[1;33m\u001b[0m\u001b[1;33m\u001b[0m\u001b[0m\n\u001b[0;32m   1231\u001b[0m         \u001b[0mlog\u001b[0m\u001b[1;33m.\u001b[0m\u001b[0mdetail\u001b[0m\u001b[1;33m(\u001b[0m\u001b[1;34mf\"{self.__class__.__name__}: restoring training state\"\u001b[0m\u001b[1;33m)\u001b[0m\u001b[1;33m\u001b[0m\u001b[1;33m\u001b[0m\u001b[0m\n\u001b[1;32m-> 1232\u001b[1;33m         \u001b[0mself\u001b[0m\u001b[1;33m.\u001b[0m\u001b[0m_checkpoint_connector\u001b[0m\u001b[1;33m.\u001b[0m\u001b[0mrestore_training_state\u001b[0m\u001b[1;33m(\u001b[0m\u001b[1;33m)\u001b[0m\u001b[1;33m\u001b[0m\u001b[1;33m\u001b[0m\u001b[0m\n\u001b[0m\u001b[0;32m   1233\u001b[0m \u001b[1;33m\u001b[0m\u001b[0m\n\u001b[0;32m   1234\u001b[0m         \u001b[0mself\u001b[0m\u001b[1;33m.\u001b[0m\u001b[0m_checkpoint_connector\u001b[0m\u001b[1;33m.\u001b[0m\u001b[0mresume_end\u001b[0m\u001b[1;33m(\u001b[0m\u001b[1;33m)\u001b[0m\u001b[1;33m\u001b[0m\u001b[1;33m\u001b[0m\u001b[0m\n",
      "\u001b[1;32m~\\anaconda3\\lib\\site-packages\\pytorch_lightning\\trainer\\connectors\\checkpoint_connector.py\u001b[0m in \u001b[0;36mrestore_training_state\u001b[1;34m(self)\u001b[0m\n\u001b[0;32m    202\u001b[0m         \u001b[1;32mif\u001b[0m \u001b[0mself\u001b[0m\u001b[1;33m.\u001b[0m\u001b[0mtrainer\u001b[0m\u001b[1;33m.\u001b[0m\u001b[0mstate\u001b[0m\u001b[1;33m.\u001b[0m\u001b[0mfn\u001b[0m \u001b[1;33m==\u001b[0m \u001b[0mTrainerFn\u001b[0m\u001b[1;33m.\u001b[0m\u001b[0mFITTING\u001b[0m\u001b[1;33m:\u001b[0m\u001b[1;33m\u001b[0m\u001b[1;33m\u001b[0m\u001b[0m\n\u001b[0;32m    203\u001b[0m             \u001b[1;31m# restore optimizers and schedulers state\u001b[0m\u001b[1;33m\u001b[0m\u001b[1;33m\u001b[0m\u001b[0m\n\u001b[1;32m--> 204\u001b[1;33m             \u001b[0mself\u001b[0m\u001b[1;33m.\u001b[0m\u001b[0mrestore_optimizers_and_schedulers\u001b[0m\u001b[1;33m(\u001b[0m\u001b[1;33m)\u001b[0m\u001b[1;33m\u001b[0m\u001b[1;33m\u001b[0m\u001b[0m\n\u001b[0m\u001b[0;32m    205\u001b[0m \u001b[1;33m\u001b[0m\u001b[0m\n\u001b[0;32m    206\u001b[0m     \u001b[1;32mdef\u001b[0m \u001b[0mrestore_precision_plugin_state\u001b[0m\u001b[1;33m(\u001b[0m\u001b[0mself\u001b[0m\u001b[1;33m)\u001b[0m \u001b[1;33m->\u001b[0m \u001b[1;32mNone\u001b[0m\u001b[1;33m:\u001b[0m\u001b[1;33m\u001b[0m\u001b[1;33m\u001b[0m\u001b[0m\n",
      "\u001b[1;32m~\\anaconda3\\lib\\site-packages\\pytorch_lightning\\trainer\\connectors\\checkpoint_connector.py\u001b[0m in \u001b[0;36mrestore_optimizers_and_schedulers\u001b[1;34m(self)\u001b[0m\n\u001b[0;32m    308\u001b[0m                     \u001b[1;34m\" This is probably due to `ModelCheckpoint.save_weights_only` being set to `True`.\"\u001b[0m\u001b[1;33m\u001b[0m\u001b[1;33m\u001b[0m\u001b[0m\n\u001b[0;32m    309\u001b[0m                 )\n\u001b[1;32m--> 310\u001b[1;33m             \u001b[0mself\u001b[0m\u001b[1;33m.\u001b[0m\u001b[0mrestore_optimizers\u001b[0m\u001b[1;33m(\u001b[0m\u001b[1;33m)\u001b[0m\u001b[1;33m\u001b[0m\u001b[1;33m\u001b[0m\u001b[0m\n\u001b[0m\u001b[0;32m    311\u001b[0m \u001b[1;33m\u001b[0m\u001b[0m\n\u001b[0;32m    312\u001b[0m         \u001b[1;32mif\u001b[0m \u001b[1;34m\"lr_schedulers\"\u001b[0m \u001b[1;32mnot\u001b[0m \u001b[1;32min\u001b[0m \u001b[0mself\u001b[0m\u001b[1;33m.\u001b[0m\u001b[0m_loaded_checkpoint\u001b[0m\u001b[1;33m:\u001b[0m\u001b[1;33m\u001b[0m\u001b[1;33m\u001b[0m\u001b[0m\n",
      "\u001b[1;32m~\\anaconda3\\lib\\site-packages\\pytorch_lightning\\trainer\\connectors\\checkpoint_connector.py\u001b[0m in \u001b[0;36mrestore_optimizers\u001b[1;34m(self)\u001b[0m\n\u001b[0;32m    323\u001b[0m \u001b[1;33m\u001b[0m\u001b[0m\n\u001b[0;32m    324\u001b[0m         \u001b[1;31m# restore the optimizers\u001b[0m\u001b[1;33m\u001b[0m\u001b[1;33m\u001b[0m\u001b[0m\n\u001b[1;32m--> 325\u001b[1;33m         \u001b[0mself\u001b[0m\u001b[1;33m.\u001b[0m\u001b[0mtrainer\u001b[0m\u001b[1;33m.\u001b[0m\u001b[0mstrategy\u001b[0m\u001b[1;33m.\u001b[0m\u001b[0mload_optimizer_state_dict\u001b[0m\u001b[1;33m(\u001b[0m\u001b[0mself\u001b[0m\u001b[1;33m.\u001b[0m\u001b[0m_loaded_checkpoint\u001b[0m\u001b[1;33m)\u001b[0m\u001b[1;33m\u001b[0m\u001b[1;33m\u001b[0m\u001b[0m\n\u001b[0m\u001b[0;32m    326\u001b[0m \u001b[1;33m\u001b[0m\u001b[0m\n\u001b[0;32m    327\u001b[0m     \u001b[1;32mdef\u001b[0m \u001b[0mrestore_lr_schedulers\u001b[0m\u001b[1;33m(\u001b[0m\u001b[0mself\u001b[0m\u001b[1;33m)\u001b[0m \u001b[1;33m->\u001b[0m \u001b[1;32mNone\u001b[0m\u001b[1;33m:\u001b[0m\u001b[1;33m\u001b[0m\u001b[1;33m\u001b[0m\u001b[0m\n",
      "\u001b[1;32m~\\anaconda3\\lib\\site-packages\\pytorch_lightning\\strategies\\strategy.py\u001b[0m in \u001b[0;36mload_optimizer_state_dict\u001b[1;34m(self, checkpoint)\u001b[0m\n\u001b[0;32m    322\u001b[0m         \u001b[0moptimizer_states\u001b[0m \u001b[1;33m=\u001b[0m \u001b[0mcheckpoint\u001b[0m\u001b[1;33m[\u001b[0m\u001b[1;34m\"optimizer_states\"\u001b[0m\u001b[1;33m]\u001b[0m\u001b[1;33m\u001b[0m\u001b[1;33m\u001b[0m\u001b[0m\n\u001b[0;32m    323\u001b[0m         \u001b[1;32mfor\u001b[0m \u001b[0moptimizer\u001b[0m\u001b[1;33m,\u001b[0m \u001b[0mopt_state\u001b[0m \u001b[1;32min\u001b[0m \u001b[0mzip\u001b[0m\u001b[1;33m(\u001b[0m\u001b[0mself\u001b[0m\u001b[1;33m.\u001b[0m\u001b[0moptimizers\u001b[0m\u001b[1;33m,\u001b[0m \u001b[0moptimizer_states\u001b[0m\u001b[1;33m)\u001b[0m\u001b[1;33m:\u001b[0m\u001b[1;33m\u001b[0m\u001b[1;33m\u001b[0m\u001b[0m\n\u001b[1;32m--> 324\u001b[1;33m             \u001b[0moptimizer\u001b[0m\u001b[1;33m.\u001b[0m\u001b[0mload_state_dict\u001b[0m\u001b[1;33m(\u001b[0m\u001b[0mopt_state\u001b[0m\u001b[1;33m)\u001b[0m\u001b[1;33m\u001b[0m\u001b[1;33m\u001b[0m\u001b[0m\n\u001b[0m\u001b[0;32m    325\u001b[0m             \u001b[0moptimizer_to_device\u001b[0m\u001b[1;33m(\u001b[0m\u001b[0moptimizer\u001b[0m\u001b[1;33m,\u001b[0m \u001b[0mself\u001b[0m\u001b[1;33m.\u001b[0m\u001b[0mroot_device\u001b[0m\u001b[1;33m)\u001b[0m\u001b[1;33m\u001b[0m\u001b[1;33m\u001b[0m\u001b[0m\n\u001b[0;32m    326\u001b[0m \u001b[1;33m\u001b[0m\u001b[0m\n",
      "\u001b[1;32m~\\anaconda3\\lib\\site-packages\\torch\\optim\\optimizer.py\u001b[0m in \u001b[0;36mload_state_dict\u001b[1;34m(self, state_dict)\u001b[0m\n\u001b[0;32m    139\u001b[0m \u001b[1;33m\u001b[0m\u001b[0m\n\u001b[0;32m    140\u001b[0m         \u001b[1;32mif\u001b[0m \u001b[0mlen\u001b[0m\u001b[1;33m(\u001b[0m\u001b[0mgroups\u001b[0m\u001b[1;33m)\u001b[0m \u001b[1;33m!=\u001b[0m \u001b[0mlen\u001b[0m\u001b[1;33m(\u001b[0m\u001b[0msaved_groups\u001b[0m\u001b[1;33m)\u001b[0m\u001b[1;33m:\u001b[0m\u001b[1;33m\u001b[0m\u001b[1;33m\u001b[0m\u001b[0m\n\u001b[1;32m--> 141\u001b[1;33m             raise ValueError(\"loaded state dict has a different number of \"\n\u001b[0m\u001b[0;32m    142\u001b[0m                              \"parameter groups\")\n\u001b[0;32m    143\u001b[0m         \u001b[0mparam_lens\u001b[0m \u001b[1;33m=\u001b[0m \u001b[1;33m(\u001b[0m\u001b[0mlen\u001b[0m\u001b[1;33m(\u001b[0m\u001b[0mg\u001b[0m\u001b[1;33m[\u001b[0m\u001b[1;34m'params'\u001b[0m\u001b[1;33m]\u001b[0m\u001b[1;33m)\u001b[0m \u001b[1;32mfor\u001b[0m \u001b[0mg\u001b[0m \u001b[1;32min\u001b[0m \u001b[0mgroups\u001b[0m\u001b[1;33m)\u001b[0m\u001b[1;33m\u001b[0m\u001b[1;33m\u001b[0m\u001b[0m\n",
      "\u001b[1;31mValueError\u001b[0m: loaded state dict has a different number of parameter groups"
     ]
    }
   ],
   "source": [
    "wandb_logger = WandbLogger(project=\"PGAN\",  name='locally_from_ckpt_airplanes' ,entity=\"dl_image_classification\")\n",
    "trainer = Trainer(gpus=1, max_epochs=2250+200, log_every_n_steps=50, logger=wandb_logger)\n",
    "trainer.fit(model, oneclass_dataloader, ckpt_path='epoch=171-step=107672.ckpt')"
   ]
  },
  {
   "cell_type": "code",
   "execution_count": null,
   "id": "8f7fdc7e",
   "metadata": {
    "scrolled": true
   },
   "outputs": [],
   "source": [
    "model.load_from_checkpoint('epoch=317-step=124656.ckpt')\n"
   ]
  },
  {
   "cell_type": "code",
   "execution_count": null,
   "id": "fb62e466",
   "metadata": {},
   "outputs": [],
   "source": [
    "wandb.finish()"
   ]
  },
  {
   "cell_type": "markdown",
   "id": "d89be21a",
   "metadata": {},
   "source": [
    "# Debugging"
   ]
  },
  {
   "cell_type": "code",
   "execution_count": 20,
   "id": "ba34f7be",
   "metadata": {
    "scrolled": true
   },
   "outputs": [],
   "source": [
    "model.generator.residual=None"
   ]
  },
  {
   "cell_type": "code",
   "execution_count": 45,
   "id": "d9bdf7ee",
   "metadata": {},
   "outputs": [],
   "source": [
    "latent_vec=F.normalize(torch.rand(40,512), p=2, dim=1)\n",
    "latent_vec\n",
    "model.generator.to('cpu')\n",
    "model.generator.device='cpu'"
   ]
  },
  {
   "cell_type": "code",
   "execution_count": null,
   "id": "1e58f6ce",
   "metadata": {},
   "outputs": [],
   "source": [
    "from torchvision.utils import save_image\n"
   ]
  },
  {
   "cell_type": "code",
   "execution_count": 13,
   "id": "26eaf924",
   "metadata": {},
   "outputs": [
    {
     "data": {
      "text/plain": [
       "\"alpha\":       0.05\n",
       "\"alpha_step\":  0.05\n",
       "\"curr_res\":    64\n",
       "\"final_res\":   32\n",
       "\"k\":           1\n",
       "\"latent_size\": 512\n",
       "\"lr\":          0.0001\n",
       "\"normalize\":   True"
      ]
     },
     "execution_count": 13,
     "metadata": {},
     "output_type": "execute_result"
    }
   ],
   "source": [
    "model.hparams"
   ]
  },
  {
   "cell_type": "code",
   "execution_count": 49,
   "id": "2fe3ded7",
   "metadata": {},
   "outputs": [
    {
     "name": "stdout",
     "output_type": "stream",
     "text": [
      "torch.Size([3, 32, 32])\n"
     ]
    },
    {
     "data": {
      "image/png": "[encoded data removed]",
      "text/plain": [
       "<PIL.Image.Image image mode=RGB size=128x128 at 0x22C1389C640>"
      ]
     },
     "metadata": {},
     "output_type": "display_data"
    },
    {
     "name": "stdout",
     "output_type": "stream",
     "text": [
      "torch.Size([3, 32, 32])\n"
     ]
    },
    {
     "data": {
      "image/png": "[encoded data removed]",
      "text/plain": [
       "<PIL.Image.Image image mode=RGB size=128x128 at 0x22C1389C4C0>"
      ]
     },
     "metadata": {},
     "output_type": "display_data"
    },
    {
     "name": "stdout",
     "output_type": "stream",
     "text": [
      "torch.Size([3, 32, 32])\n"
     ]
    },
    {
     "data": {
      "image/png": "[encoded data removed]",
      "text/plain": [
       "<PIL.Image.Image image mode=RGB size=128x128 at 0x22BD1E58520>"
      ]
     },
     "metadata": {},
     "output_type": "display_data"
    },
    {
     "name": "stdout",
     "output_type": "stream",
     "text": [
      "torch.Size([3, 32, 32])\n"
     ]
    },
    {
     "data": {
      "image/png": "[encoded data removed]",
      "text/plain": [
       "<PIL.Image.Image image mode=RGB size=128x128 at 0x22BD832A340>"
      ]
     },
     "metadata": {},
     "output_type": "display_data"
    },
    {
     "name": "stdout",
     "output_type": "stream",
     "text": [
      "torch.Size([3, 32, 32])\n"
     ]
    },
    {
     "data": {
      "image/png": "[encoded data removed]",
      "text/plain": [
       "<PIL.Image.Image image mode=RGB size=128x128 at 0x22BD832A340>"
      ]
     },
     "metadata": {},
     "output_type": "display_data"
    },
    {
     "name": "stdout",
     "output_type": "stream",
     "text": [
      "torch.Size([3, 32, 32])\n"
     ]
    },
    {
     "data": {
      "image/png": "[encoded data removed]",
      "text/plain": [
       "<PIL.Image.Image image mode=RGB size=128x128 at 0x22BD832AEE0>"
      ]
     },
     "metadata": {},
     "output_type": "display_data"
    },
    {
     "name": "stdout",
     "output_type": "stream",
     "text": [
      "torch.Size([3, 32, 32])\n"
     ]
    },
    {
     "data": {
      "image/png": "[encoded data removed]",
      "text/plain": [
       "<PIL.Image.Image image mode=RGB size=128x128 at 0x22BD832AE80>"
      ]
     },
     "metadata": {},
     "output_type": "display_data"
    },
    {
     "name": "stdout",
     "output_type": "stream",
     "text": [
      "torch.Size([3, 32, 32])\n"
     ]
    },
    {
     "data": {
      "image/png": "[encoded data removed]",
      "text/plain": [
       "<PIL.Image.Image image mode=RGB size=128x128 at 0x22BD832AEE0>"
      ]
     },
     "metadata": {},
     "output_type": "display_data"
    },
    {
     "name": "stdout",
     "output_type": "stream",
     "text": [
      "torch.Size([3, 32, 32])\n"
     ]
    },
    {
     "data": {
      "image/png": "[encoded data removed]",
      "text/plain": [
       "<PIL.Image.Image image mode=RGB size=128x128 at 0x22BD832A340>"
      ]
     },
     "metadata": {},
     "output_type": "display_data"
    },
    {
     "name": "stdout",
     "output_type": "stream",
     "text": [
      "torch.Size([3, 32, 32])\n"
     ]
    },
    {
     "data": {
      "image/png": "[encoded data removed]",
      "text/plain": [
       "<PIL.Image.Image image mode=RGB size=128x128 at 0x22BD832AE80>"
      ]
     },
     "metadata": {},
     "output_type": "display_data"
    },
    {
     "name": "stdout",
     "output_type": "stream",
     "text": [
      "torch.Size([3, 32, 32])\n"
     ]
    },
    {
     "data": {
      "image/png": "[encoded data removed]",
      "text/plain": [
       "<PIL.Image.Image image mode=RGB size=128x128 at 0x22BD832AEE0>"
      ]
     },
     "metadata": {},
     "output_type": "display_data"
    },
    {
     "name": "stdout",
     "output_type": "stream",
     "text": [
      "torch.Size([3, 32, 32])\n"
     ]
    },
    {
     "data": {
      "image/png": "[encoded data removed]",
      "text/plain": [
       "<PIL.Image.Image image mode=RGB size=128x128 at 0x22BD832AEE0>"
      ]
     },
     "metadata": {},
     "output_type": "display_data"
    },
    {
     "name": "stdout",
     "output_type": "stream",
     "text": [
      "torch.Size([3, 32, 32])\n"
     ]
    },
    {
     "data": {
      "image/png": "[encoded data removed]",
      "text/plain": [
       "<PIL.Image.Image image mode=RGB size=128x128 at 0x22C1389C4C0>"
      ]
     },
     "metadata": {},
     "output_type": "display_data"
    },
    {
     "name": "stdout",
     "output_type": "stream",
     "text": [
      "torch.Size([3, 32, 32])\n"
     ]
    },
    {
     "data": {
      "image/png": "[encoded data removed]",
      "text/plain": [
       "<PIL.Image.Image image mode=RGB size=128x128 at 0x22C1389C550>"
      ]
     },
     "metadata": {},
     "output_type": "display_data"
    },
    {
     "name": "stdout",
     "output_type": "stream",
     "text": [
      "torch.Size([3, 32, 32])\n"
     ]
    },
    {
     "data": {
      "image/png": "[encoded data removed]",
      "text/plain": [
       "<PIL.Image.Image image mode=RGB size=128x128 at 0x22C1389C640>"
      ]
     },
     "metadata": {},
     "output_type": "display_data"
    },
    {
     "name": "stdout",
     "output_type": "stream",
     "text": [
      "torch.Size([3, 32, 32])\n"
     ]
    },
    {
     "data": {
      "image/png": "[encoded data removed]",
      "text/plain": [
       "<PIL.Image.Image image mode=RGB size=128x128 at 0x22C1389C640>"
      ]
     },
     "metadata": {},
     "output_type": "display_data"
    },
    {
     "name": "stdout",
     "output_type": "stream",
     "text": [
      "torch.Size([3, 32, 32])\n"
     ]
    },
    {
     "data": {
      "image/png": "[encoded data removed]",
      "text/plain": [
       "<PIL.Image.Image image mode=RGB size=128x128 at 0x22C1389C640>"
      ]
     },
     "metadata": {},
     "output_type": "display_data"
    },
    {
     "name": "stdout",
     "output_type": "stream",
     "text": [
      "torch.Size([3, 32, 32])\n"
     ]
    },
    {
     "data": {
      "image/png": "[encoded data removed]",
      "text/plain": [
       "<PIL.Image.Image image mode=RGB size=128x128 at 0x22BD9852B50>"
      ]
     },
     "metadata": {},
     "output_type": "display_data"
    },
    {
     "name": "stdout",
     "output_type": "stream",
     "text": [
      "torch.Size([3, 32, 32])\n"
     ]
    },
    {
     "data": {
      "image/png": "[encoded data removed]",
      "text/plain": [
       "<PIL.Image.Image image mode=RGB size=128x128 at 0x22BD832AE80>"
      ]
     },
     "metadata": {},
     "output_type": "display_data"
    },
    {
     "name": "stdout",
     "output_type": "stream",
     "text": [
      "torch.Size([3, 32, 32])\n"
     ]
    },
    {
     "data": {
      "image/png": "[encoded data removed]",
      "text/plain": [
       "<PIL.Image.Image image mode=RGB size=128x128 at 0x22BD832AE80>"
      ]
     },
     "metadata": {},
     "output_type": "display_data"
    },
    {
     "name": "stdout",
     "output_type": "stream",
     "text": [
      "torch.Size([3, 32, 32])\n"
     ]
    },
    {
     "data": {
      "image/png": "[encoded data removed]",
      "text/plain": [
       "<PIL.Image.Image image mode=RGB size=128x128 at 0x22BD832AE80>"
      ]
     },
     "metadata": {},
     "output_type": "display_data"
    },
    {
     "name": "stdout",
     "output_type": "stream",
     "text": [
      "torch.Size([3, 32, 32])\n"
     ]
    },
    {
     "data": {
      "image/png": "[encoded data removed]",
      "text/plain": [
       "<PIL.Image.Image image mode=RGB size=128x128 at 0x22BD832A340>"
      ]
     },
     "metadata": {},
     "output_type": "display_data"
    },
    {
     "name": "stdout",
     "output_type": "stream",
     "text": [
      "torch.Size([3, 32, 32])\n"
     ]
    },
    {
     "data": {
      "image/png": "[encoded data removed]",
      "text/plain": [
       "<PIL.Image.Image image mode=RGB size=128x128 at 0x22C1389C4C0>"
      ]
     },
     "metadata": {},
     "output_type": "display_data"
    },
    {
     "name": "stdout",
     "output_type": "stream",
     "text": [
      "torch.Size([3, 32, 32])\n"
     ]
    },
    {
     "data": {
      "image/png": "[encoded data removed]",
      "text/plain": [
       "<PIL.Image.Image image mode=RGB size=128x128 at 0x22BD832A340>"
      ]
     },
     "metadata": {},
     "output_type": "display_data"
    },
    {
     "name": "stdout",
     "output_type": "stream",
     "text": [
      "torch.Size([3, 32, 32])\n"
     ]
    },
    {
     "data": {
      "image/png": "[encoded data removed]",
      "text/plain": [
       "<PIL.Image.Image image mode=RGB size=128x128 at 0x22C1389C640>"
      ]
     },
     "metadata": {},
     "output_type": "display_data"
    },
    {
     "name": "stdout",
     "output_type": "stream",
     "text": [
      "torch.Size([3, 32, 32])\n"
     ]
    },
    {
     "data": {
      "image/png": "[encoded data removed]",
      "text/plain": [
       "<PIL.Image.Image image mode=RGB size=128x128 at 0x22BD832AEE0>"
      ]
     },
     "metadata": {},
     "output_type": "display_data"
    },
    {
     "name": "stdout",
     "output_type": "stream",
     "text": [
      "torch.Size([3, 32, 32])\n"
     ]
    },
    {
     "data": {
      "image/png": "[encoded data removed]",
      "text/plain": [
       "<PIL.Image.Image image mode=RGB size=128x128 at 0x22BD832A340>"
      ]
     },
     "metadata": {},
     "output_type": "display_data"
    },
    {
     "name": "stdout",
     "output_type": "stream",
     "text": [
      "torch.Size([3, 32, 32])\n"
     ]
    },
    {
     "data": {
      "image/png": "[encoded data removed]",
      "text/plain": [
       "<PIL.Image.Image image mode=RGB size=128x128 at 0x22BD832A340>"
      ]
     },
     "metadata": {},
     "output_type": "display_data"
    },
    {
     "name": "stdout",
     "output_type": "stream",
     "text": [
      "torch.Size([3, 32, 32])\n"
     ]
    },
    {
     "data": {
      "image/png": "[encoded data removed]",
      "text/plain": [
       "<PIL.Image.Image image mode=RGB size=128x128 at 0x22BD832A340>"
      ]
     },
     "metadata": {},
     "output_type": "display_data"
    },
    {
     "name": "stdout",
     "output_type": "stream",
     "text": [
      "torch.Size([3, 32, 32])\n"
     ]
    },
    {
     "data": {
      "image/png": "[encoded data removed]",
      "text/plain": [
       "<PIL.Image.Image image mode=RGB size=128x128 at 0x22BD832AE80>"
      ]
     },
     "metadata": {},
     "output_type": "display_data"
    },
    {
     "name": "stdout",
     "output_type": "stream",
     "text": [
      "torch.Size([3, 32, 32])\n"
     ]
    },
    {
     "data": {
      "image/png": "[encoded data removed]",
      "text/plain": [
       "<PIL.Image.Image image mode=RGB size=128x128 at 0x22C1389C640>"
      ]
     },
     "metadata": {},
     "output_type": "display_data"
    },
    {
     "name": "stdout",
     "output_type": "stream",
     "text": [
      "torch.Size([3, 32, 32])\n"
     ]
    },
    {
     "data": {
      "image/png": "[encoded data removed]",
      "text/plain": [
       "<PIL.Image.Image image mode=RGB size=128x128 at 0x22BD832AEE0>"
      ]
     },
     "metadata": {},
     "output_type": "display_data"
    },
    {
     "name": "stdout",
     "output_type": "stream",
     "text": [
      "torch.Size([3, 32, 32])\n"
     ]
    },
    {
     "data": {
      "image/png": "[encoded data removed]",
      "text/plain": [
       "<PIL.Image.Image image mode=RGB size=128x128 at 0x22BD9852B50>"
      ]
     },
     "metadata": {},
     "output_type": "display_data"
    },
    {
     "name": "stdout",
     "output_type": "stream",
     "text": [
      "torch.Size([3, 32, 32])\n"
     ]
    },
    {
     "data": {
      "image/png": "[encoded data removed]",
      "text/plain": [
       "<PIL.Image.Image image mode=RGB size=128x128 at 0x22BD832AEE0>"
      ]
     },
     "metadata": {},
     "output_type": "display_data"
    },
    {
     "name": "stdout",
     "output_type": "stream",
     "text": [
      "torch.Size([3, 32, 32])\n"
     ]
    },
    {
     "data": {
      "image/png": "[encoded data removed]",
      "text/plain": [
       "<PIL.Image.Image image mode=RGB size=128x128 at 0x22C1389C4C0>"
      ]
     },
     "metadata": {},
     "output_type": "display_data"
    },
    {
     "name": "stdout",
     "output_type": "stream",
     "text": [
      "torch.Size([3, 32, 32])\n"
     ]
    },
    {
     "data": {
      "image/png": "[encoded data removed]",
      "text/plain": [
       "<PIL.Image.Image image mode=RGB size=128x128 at 0x22BD832AE80>"
      ]
     },
     "metadata": {},
     "output_type": "display_data"
    },
    {
     "name": "stdout",
     "output_type": "stream",
     "text": [
      "torch.Size([3, 32, 32])\n"
     ]
    },
    {
     "data": {
      "image/png": "[encoded data removed]",
      "text/plain": [
       "<PIL.Image.Image image mode=RGB size=128x128 at 0x22C1389C4C0>"
      ]
     },
     "metadata": {},
     "output_type": "display_data"
    },
    {
     "name": "stdout",
     "output_type": "stream",
     "text": [
      "torch.Size([3, 32, 32])\n"
     ]
    },
    {
     "data": {
      "image/png": "[encoded data removed]",
      "text/plain": [
       "<PIL.Image.Image image mode=RGB size=128x128 at 0x22C1389C4C0>"
      ]
     },
     "metadata": {},
     "output_type": "display_data"
    },
    {
     "name": "stdout",
     "output_type": "stream",
     "text": [
      "torch.Size([3, 32, 32])\n"
     ]
    },
    {
     "data": {
      "image/png": "[encoded data removed]",
      "text/plain": [
       "<PIL.Image.Image image mode=RGB size=128x128 at 0x22BD832AE80>"
      ]
     },
     "metadata": {},
     "output_type": "display_data"
    },
    {
     "name": "stdout",
     "output_type": "stream",
     "text": [
      "torch.Size([3, 32, 32])\n"
     ]
    },
    {
     "data": {
      "image/png": "[encoded data removed]",
      "text/plain": [
       "<PIL.Image.Image image mode=RGB size=128x128 at 0x22BD9852B50>"
      ]
     },
     "metadata": {},
     "output_type": "display_data"
    }
   ],
   "source": [
    "\n",
    "gen_imgs=model.generator(latent_vec)\n",
    "i=0\n",
    "t=transforms.Compose([transforms.ToPILImage()])#, transforms.Resize(size=(256,256))])\n",
    "for img in gen_imgs: \n",
    "   # imgs.append(t(img))\n",
    "    print(img.shape)\n",
    "    \n",
    "    img_upsampled=(nn.Upsample(scale_factor=(4,4), mode='nearest')(img.view(1, 3, model.hparams.curr_res,model.hparams.curr_res)))[0]\n",
    "    \n",
    "   # print(img_upsampled)\n",
    "    t(img_upsampled).save(\"./images/plane\"+str(100+i)+\".png\")\n",
    "    display(t(img_upsampled))  \n",
    "    \n"
   ]
  },
  {
   "cell_type": "code",
   "execution_count": null,
   "id": "6956be7b",
   "metadata": {},
   "outputs": [],
   "source": [
    "for d in oneclass_dataloader: \n",
    "   # imgs.append(t(img))\n",
    "    img=d[0][0]\n",
    "    print(img.shape)\n",
    "#    img+=1\n",
    " #   img -= img.min(1, keepdim=True)[0]\n",
    "  #  img /= img.max(1, keepdim=True)[0]\n",
    "    \n",
    "    img_upsampled=(nn.Upsample(scale_factor=(4,4), mode='nearest')(img.view(1, 3, 32,32)))[0]\n",
    "    print(img_upsampled)\n",
    "    \n",
    "  #  img_upsampled[0]=1.0\n",
    "    display(t(img_upsampled)) \n",
    "    break"
   ]
  },
  {
   "cell_type": "code",
   "execution_count": null,
   "id": "87dce5a9",
   "metadata": {},
   "outputs": [],
   "source": [
    "img.min(0, keepdim=True)[0].shape"
   ]
  },
  {
   "cell_type": "code",
   "execution_count": null,
   "id": "41286b42",
   "metadata": {},
   "outputs": [],
   "source": [
    "img_upsampled[0]=1"
   ]
  },
  {
   "cell_type": "code",
   "execution_count": null,
   "id": "4b3c96b1",
   "metadata": {},
   "outputs": [],
   "source": []
  },
  {
   "cell_type": "code",
   "execution_count": null,
   "id": "c5128f62",
   "metadata": {},
   "outputs": [],
   "source": [
    "print(latent_vec.shape)\n",
    "gen_imgs=model.generator(latent_vec)\n",
    "(gen_imgs.shape)"
   ]
  },
  {
   "cell_type": "code",
   "execution_count": null,
   "id": "da9efd4d",
   "metadata": {},
   "outputs": [],
   "source": [
    "decision=model.discriminator(gen_imgs)\n",
    "decision.shape"
   ]
  },
  {
   "cell_type": "code",
   "execution_count": null,
   "id": "95a56910",
   "metadata": {},
   "outputs": [],
   "source": [
    " (decision ** 2).sum() * 1e-3"
   ]
  },
  {
   "cell_type": "code",
   "execution_count": null,
   "id": "be43e467",
   "metadata": {},
   "outputs": [],
   "source": [
    "(decision ** 2).flatten() == (decision[:, 0] ** 2)"
   ]
  },
  {
   "cell_type": "code",
   "execution_count": null,
   "id": "a7b8a32b",
   "metadata": {},
   "outputs": [],
   "source": [
    "torch.mean(decision[:, 0])#.sum()"
   ]
  },
  {
   "cell_type": "code",
   "execution_count": null,
   "id": "ff0c0f36",
   "metadata": {},
   "outputs": [],
   "source": [
    "#t=transforms.ToPILImage()\n",
    "#imgs=[]\n",
    "t=transforms.ToPILImage()\n",
    "for img in gen_imgs: \n",
    "   # imgs.append(t(img))\n",
    "    display(t(img))\n",
    "#display(imgs[0]), display(imgs[1]), display(imgs[2]), display(imgs[3])"
   ]
  },
  {
   "cell_type": "code",
   "execution_count": null,
   "id": "dfe1d162",
   "metadata": {},
   "outputs": [],
   "source": [
    "#gen.finish_adding_scale()\n",
    "gen.add_scale()\n",
    "#gen.finish_adding_scale()\n",
    "gen.layers"
   ]
  },
  {
   "cell_type": "code",
   "execution_count": null,
   "id": "84d92062",
   "metadata": {},
   "outputs": [],
   "source": [
    "#dis.finish_adding_scale()\n",
    "dis.add_scale()\n",
    "#dis.finish_adding_scale()\n",
    "dis.layers"
   ]
  },
  {
   "cell_type": "code",
   "execution_count": null,
   "id": "1c062252",
   "metadata": {},
   "outputs": [],
   "source": [
    "print(latent_vec.shape)\n",
    "gen_imgs=gen(latent_vec)\n",
    "print(gen_imgs.shape)"
   ]
  },
  {
   "cell_type": "code",
   "execution_count": null,
   "id": "61266f85",
   "metadata": {},
   "outputs": [],
   "source": [
    "decision=dis(gen_imgs)\n",
    "decision.shape, decision"
   ]
  },
  {
   "cell_type": "code",
   "execution_count": null,
   "id": "1ff4fa33",
   "metadata": {},
   "outputs": [],
   "source": []
  },
  {
   "cell_type": "code",
   "execution_count": null,
   "id": "2805d0d7",
   "metadata": {},
   "outputs": [],
   "source": []
  }
 ],
 "metadata": {
  "kernelspec": {
   "display_name": "Python 3 (ipykernel)",
   "language": "python",
   "name": "python3"
  },
  "language_info": {
   "codemirror_mode": {
    "name": "ipython",
    "version": 3
   },
   "file_extension": ".py",
   "mimetype": "text/x-python",
   "name": "python",
   "nbconvert_exporter": "python",
   "pygments_lexer": "ipython3",
   "version": "3.9.7"
  }
 },
 "nbformat": 4,
 "nbformat_minor": 5
}
